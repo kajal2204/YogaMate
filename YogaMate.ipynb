{
 "cells": [
  {
   "cell_type": "code",
   "execution_count": 9,
   "id": "16f30760",
   "metadata": {},
   "outputs": [],
   "source": [
    "import numpy as np\n",
    "import pandas as pd\n",
    "import os\n",
    "import matplotlib.pyplot as plt\n",
    "import seaborn as sns\n",
    "import tensorflow as tf\n",
    "from keras.preprocessing import image\n",
    "from keras.models import Sequential\n",
    "from keras.layers import Conv2D, MaxPool2D, Flatten, Dense, Dropout\n",
    "from tensorflow.keras.preprocessing.image import ImageDataGenerator"
   ]
  },
  {
   "cell_type": "code",
   "execution_count": 10,
   "id": "e9a972a8",
   "metadata": {},
   "outputs": [],
   "source": [
    "train_dir = \"C:\\\\Users\\\\kajal\\\\OneDrive\\\\Desktop\\\\DATASET\\\\TRAIN\"\n",
    "test_dir = \"C:\\\\Users\\\\kajal\\\\OneDrive\\\\Desktop\\\\DATASET\\\\TEST\""
   ]
  },
  {
   "cell_type": "code",
   "execution_count": 11,
   "id": "c5fdeca4",
   "metadata": {},
   "outputs": [
    {
     "name": "stdout",
     "output_type": "stream",
     "text": [
      "Found 1994 images belonging to 20 classes.\n",
      "Found 266 images belonging to 20 classes.\n"
     ]
    }
   ],
   "source": [
    "train_datagen = ImageDataGenerator(\n",
    "    rescale=1./255,\n",
    "    rotation_range=20,\n",
    "    width_shift_range=0.2,\n",
    "    height_shift_range=0.2,\n",
    "    shear_range=0.2,\n",
    "    zoom_range=0.2,\n",
    "    horizontal_flip=True,\n",
    "    fill_mode='nearest'\n",
    ")\n",
    "\n",
    "test_datagen = ImageDataGenerator(rescale=1./255, validation_split=0.2)\n",
    "\n",
    "train_generator = train_datagen.flow_from_directory(\n",
    "    directory=train_dir,\n",
    "    target_size=(224, 224),\n",
    "    color_mode='rgb',\n",
    "    class_mode='categorical',\n",
    "    batch_size=32,  \n",
    "    subset='training'\n",
    ")\n",
    "\n",
    "validation_generator = test_datagen.flow_from_directory(\n",
    "    directory=test_dir,\n",
    "    target_size=(224, 224),\n",
    "    color_mode='rgb',\n",
    "    class_mode='categorical',\n",
    "    subset='validation'\n",
    ")"
   ]
  },
  {
   "cell_type": "code",
   "execution_count": 12,
   "id": "5a9daefc",
   "metadata": {},
   "outputs": [
    {
     "name": "stdout",
     "output_type": "stream",
     "text": [
      "WARNING:tensorflow:From C:\\anacon\\Lib\\site-packages\\keras\\src\\backend.py:873: The name tf.get_default_graph is deprecated. Please use tf.compat.v1.get_default_graph instead.\n",
      "\n",
      "WARNING:tensorflow:From C:\\anacon\\Lib\\site-packages\\keras\\src\\layers\\pooling\\max_pooling2d.py:161: The name tf.nn.max_pool is deprecated. Please use tf.nn.max_pool2d instead.\n",
      "\n"
     ]
    }
   ],
   "source": [
    "model = tf.keras.models.Sequential([\n",
    "    tf.keras.layers.Conv2D(64, (3, 3), activation='relu', padding='same', input_shape=(224, 224, 3)),\n",
    "    tf.keras.layers.MaxPooling2D(2, 2),\n",
    "    tf.keras.layers.Dropout(0.25),\n",
    "    tf.keras.layers.Conv2D(128, (3, 3), activation='relu', padding='same'),\n",
    "    tf.keras.layers.MaxPooling2D(2, 2),\n",
    "    tf.keras.layers.Dropout(0.25),\n",
    "    tf.keras.layers.Conv2D(128, (3, 3), activation='relu', padding='same'),\n",
    "    tf.keras.layers.MaxPooling2D(2, 2),\n",
    "    tf.keras.layers.Dropout(0.25),\n",
    "    tf.keras.layers.Conv2D(256, (3, 3), activation='relu', padding='same'),\n",
    "    tf.keras.layers.MaxPooling2D(2, 2),\n",
    "    tf.keras.layers.Dropout(0.25),\n",
    "    tf.keras.layers.Flatten(),\n",
    "    tf.keras.layers.Dense(1024, activation='relu'),\n",
    "    tf.keras.layers.Dropout(0.5),\n",
    "    tf.keras.layers.Dense(20, activation='softmax')  \n",
    "])"
   ]
  },
  {
   "cell_type": "code",
   "execution_count": 13,
   "id": "e6818bbb",
   "metadata": {},
   "outputs": [
    {
     "name": "stderr",
     "output_type": "stream",
     "text": [
      "WARNING:absl:`lr` is deprecated in Keras optimizer, please use `learning_rate` or use the legacy optimizer, e.g.,tf.keras.optimizers.legacy.Adam.\n"
     ]
    }
   ],
   "source": [
    "optimizer = tf.keras.optimizers.Adam(lr=0.001)\n",
    "model.compile(\n",
    "    loss='categorical_crossentropy',\n",
    "    optimizer=optimizer,\n",
    "    metrics=['accuracy']\n",
    ")"
   ]
  },
  {
   "cell_type": "code",
   "execution_count": 14,
   "id": "39be6b45",
   "metadata": {},
   "outputs": [
    {
     "name": "stdout",
     "output_type": "stream",
     "text": [
      "Model: \"sequential\"\n",
      "_________________________________________________________________\n",
      " Layer (type)                Output Shape              Param #   \n",
      "=================================================================\n",
      " conv2d (Conv2D)             (None, 224, 224, 64)      1792      \n",
      "                                                                 \n",
      " max_pooling2d (MaxPooling2  (None, 112, 112, 64)      0         \n",
      " D)                                                              \n",
      "                                                                 \n",
      " dropout (Dropout)           (None, 112, 112, 64)      0         \n",
      "                                                                 \n",
      " conv2d_1 (Conv2D)           (None, 112, 112, 128)     73856     \n",
      "                                                                 \n",
      " max_pooling2d_1 (MaxPoolin  (None, 56, 56, 128)       0         \n",
      " g2D)                                                            \n",
      "                                                                 \n",
      " dropout_1 (Dropout)         (None, 56, 56, 128)       0         \n",
      "                                                                 \n",
      " conv2d_2 (Conv2D)           (None, 56, 56, 128)       147584    \n",
      "                                                                 \n",
      " max_pooling2d_2 (MaxPoolin  (None, 28, 28, 128)       0         \n",
      " g2D)                                                            \n",
      "                                                                 \n",
      " dropout_2 (Dropout)         (None, 28, 28, 128)       0         \n",
      "                                                                 \n",
      " conv2d_3 (Conv2D)           (None, 28, 28, 256)       295168    \n",
      "                                                                 \n",
      " max_pooling2d_3 (MaxPoolin  (None, 14, 14, 256)       0         \n",
      " g2D)                                                            \n",
      "                                                                 \n",
      " dropout_3 (Dropout)         (None, 14, 14, 256)       0         \n",
      "                                                                 \n",
      " flatten (Flatten)           (None, 50176)             0         \n",
      "                                                                 \n",
      " dense (Dense)               (None, 1024)              51381248  \n",
      "                                                                 \n",
      " dropout_4 (Dropout)         (None, 1024)              0         \n",
      "                                                                 \n",
      " dense_1 (Dense)             (None, 20)                20500     \n",
      "                                                                 \n",
      "=================================================================\n",
      "Total params: 51920148 (198.06 MB)\n",
      "Trainable params: 51920148 (198.06 MB)\n",
      "Non-trainable params: 0 (0.00 Byte)\n",
      "_________________________________________________________________\n"
     ]
    }
   ],
   "source": [
    "epochs = 50\n",
    "batch_size = 32\n",
    "\n",
    "model.summary()"
   ]
  },
  {
   "cell_type": "code",
   "execution_count": 16,
   "id": "04bae00e",
   "metadata": {
    "scrolled": true
   },
   "outputs": [
    {
     "name": "stdout",
     "output_type": "stream",
     "text": [
      "Epoch 1/50\n",
      "WARNING:tensorflow:From C:\\anacon\\Lib\\site-packages\\keras\\src\\utils\\tf_utils.py:492: The name tf.ragged.RaggedTensorValue is deprecated. Please use tf.compat.v1.ragged.RaggedTensorValue instead.\n",
      "\n"
     ]
    },
    {
     "name": "stderr",
     "output_type": "stream",
     "text": [
      "WARNING:tensorflow:From C:\\anacon\\Lib\\site-packages\\keras\\src\\utils\\tf_utils.py:492: The name tf.ragged.RaggedTensorValue is deprecated. Please use tf.compat.v1.ragged.RaggedTensorValue instead.\n",
      "\n"
     ]
    },
    {
     "name": "stdout",
     "output_type": "stream",
     "text": [
      "WARNING:tensorflow:From C:\\anacon\\Lib\\site-packages\\keras\\src\\engine\\base_layer_utils.py:384: The name tf.executing_eagerly_outside_functions is deprecated. Please use tf.compat.v1.executing_eagerly_outside_functions instead.\n",
      "\n"
     ]
    },
    {
     "name": "stderr",
     "output_type": "stream",
     "text": [
      "WARNING:tensorflow:From C:\\anacon\\Lib\\site-packages\\keras\\src\\engine\\base_layer_utils.py:384: The name tf.executing_eagerly_outside_functions is deprecated. Please use tf.compat.v1.executing_eagerly_outside_functions instead.\n",
      "\n"
     ]
    },
    {
     "name": "stdout",
     "output_type": "stream",
     "text": [
      " 5/63 [=>............................] - ETA: 2:02 - loss: 6.4712 - accuracy: 0.0812"
     ]
    },
    {
     "name": "stderr",
     "output_type": "stream",
     "text": [
      "C:\\anacon\\Lib\\site-packages\\PIL\\Image.py:970: UserWarning: Palette images with Transparency expressed in bytes should be converted to RGBA images\n",
      "  warnings.warn(\n"
     ]
    },
    {
     "name": "stdout",
     "output_type": "stream",
     "text": [
      "63/63 [==============================] - 154s 2s/step - loss: 3.0874 - accuracy: 0.1299 - val_loss: 2.9032 - val_accuracy: 0.0714\n",
      "Epoch 2/50\n",
      "63/63 [==============================] - 154s 2s/step - loss: 2.7574 - accuracy: 0.1284 - val_loss: 2.9112 - val_accuracy: 0.0865\n",
      "Epoch 3/50\n",
      "63/63 [==============================] - 147s 2s/step - loss: 2.7642 - accuracy: 0.1234 - val_loss: 2.9175 - val_accuracy: 0.0865\n",
      "Epoch 4/50\n",
      "63/63 [==============================] - 145s 2s/step - loss: 2.7462 - accuracy: 0.1384 - val_loss: 2.8841 - val_accuracy: 0.1128\n",
      "Epoch 5/50\n",
      "63/63 [==============================] - 145s 2s/step - loss: 2.7027 - accuracy: 0.1484 - val_loss: 2.6785 - val_accuracy: 0.1805\n",
      "Epoch 6/50\n",
      "63/63 [==============================] - 145s 2s/step - loss: 2.6417 - accuracy: 0.1625 - val_loss: 2.6578 - val_accuracy: 0.1955\n",
      "Epoch 7/50\n",
      "63/63 [==============================] - 244s 4s/step - loss: 2.6050 - accuracy: 0.1710 - val_loss: 2.4364 - val_accuracy: 0.2068\n",
      "Epoch 8/50\n",
      "63/63 [==============================] - 146s 2s/step - loss: 2.6047 - accuracy: 0.1735 - val_loss: 2.4116 - val_accuracy: 0.2744\n",
      "Epoch 9/50\n",
      "63/63 [==============================] - 146s 2s/step - loss: 2.5511 - accuracy: 0.1951 - val_loss: 2.3370 - val_accuracy: 0.3195\n",
      "Epoch 10/50\n",
      "63/63 [==============================] - 147s 2s/step - loss: 2.4975 - accuracy: 0.2187 - val_loss: 2.1364 - val_accuracy: 0.3008\n",
      "Epoch 11/50\n",
      "63/63 [==============================] - 173s 3s/step - loss: 2.4271 - accuracy: 0.2407 - val_loss: 2.0336 - val_accuracy: 0.3797\n",
      "Epoch 12/50\n",
      "63/63 [==============================] - 179s 3s/step - loss: 2.4161 - accuracy: 0.2222 - val_loss: 2.1460 - val_accuracy: 0.3421\n",
      "Epoch 13/50\n",
      "63/63 [==============================] - 182s 3s/step - loss: 2.3605 - accuracy: 0.2452 - val_loss: 1.9454 - val_accuracy: 0.3947\n",
      "Epoch 14/50\n",
      "63/63 [==============================] - 180s 3s/step - loss: 2.3010 - accuracy: 0.2738 - val_loss: 1.7455 - val_accuracy: 0.4173\n",
      "Epoch 15/50\n",
      "63/63 [==============================] - 181s 3s/step - loss: 2.2004 - accuracy: 0.3039 - val_loss: 1.5698 - val_accuracy: 0.5075\n",
      "Epoch 16/50\n",
      "63/63 [==============================] - 152s 2s/step - loss: 2.1461 - accuracy: 0.3240 - val_loss: 1.4349 - val_accuracy: 0.5338\n",
      "Epoch 17/50\n",
      "63/63 [==============================] - 150s 2s/step - loss: 2.1016 - accuracy: 0.3305 - val_loss: 1.3784 - val_accuracy: 0.6203\n",
      "Epoch 18/50\n",
      "63/63 [==============================] - 147s 2s/step - loss: 2.0361 - accuracy: 0.3656 - val_loss: 1.2452 - val_accuracy: 0.6429\n",
      "Epoch 19/50\n",
      "63/63 [==============================] - 148s 2s/step - loss: 1.9709 - accuracy: 0.3816 - val_loss: 1.2140 - val_accuracy: 0.6429\n",
      "Epoch 20/50\n",
      "63/63 [==============================] - 148s 2s/step - loss: 1.9144 - accuracy: 0.3932 - val_loss: 1.1611 - val_accuracy: 0.6579\n",
      "Epoch 21/50\n",
      "63/63 [==============================] - 158s 3s/step - loss: 1.8669 - accuracy: 0.4223 - val_loss: 1.1682 - val_accuracy: 0.6053\n",
      "Epoch 22/50\n",
      "63/63 [==============================] - 154s 2s/step - loss: 1.8535 - accuracy: 0.4273 - val_loss: 1.1397 - val_accuracy: 0.6429\n",
      "Epoch 23/50\n",
      "63/63 [==============================] - 159s 3s/step - loss: 1.8424 - accuracy: 0.4293 - val_loss: 1.0813 - val_accuracy: 0.6729\n",
      "Epoch 24/50\n",
      "63/63 [==============================] - 158s 3s/step - loss: 1.7605 - accuracy: 0.4388 - val_loss: 1.0818 - val_accuracy: 0.6842\n",
      "Epoch 25/50\n",
      "63/63 [==============================] - 158s 2s/step - loss: 1.7384 - accuracy: 0.4579 - val_loss: 0.8758 - val_accuracy: 0.7519\n",
      "Epoch 26/50\n",
      "63/63 [==============================] - 149s 2s/step - loss: 1.7128 - accuracy: 0.4614 - val_loss: 0.8837 - val_accuracy: 0.7256\n",
      "Epoch 27/50\n",
      "63/63 [==============================] - 146s 2s/step - loss: 1.6660 - accuracy: 0.4734 - val_loss: 1.0404 - val_accuracy: 0.7105\n",
      "Epoch 28/50\n",
      "63/63 [==============================] - 144s 2s/step - loss: 1.6789 - accuracy: 0.4930 - val_loss: 0.8835 - val_accuracy: 0.7519\n",
      "Epoch 29/50\n",
      "63/63 [==============================] - 144s 2s/step - loss: 1.6025 - accuracy: 0.5005 - val_loss: 0.8282 - val_accuracy: 0.7068\n",
      "Epoch 30/50\n",
      "63/63 [==============================] - 144s 2s/step - loss: 1.5294 - accuracy: 0.5276 - val_loss: 0.7502 - val_accuracy: 0.7632\n",
      "Epoch 31/50\n",
      "63/63 [==============================] - 144s 2s/step - loss: 1.5358 - accuracy: 0.5165 - val_loss: 0.7100 - val_accuracy: 0.7895\n",
      "Epoch 32/50\n",
      "63/63 [==============================] - 147s 2s/step - loss: 1.5658 - accuracy: 0.5020 - val_loss: 0.8168 - val_accuracy: 0.7406\n",
      "Epoch 33/50\n",
      "63/63 [==============================] - 1916s 31s/step - loss: 1.5213 - accuracy: 0.5311 - val_loss: 0.6823 - val_accuracy: 0.7820\n",
      "Epoch 34/50\n",
      "63/63 [==============================] - 140s 2s/step - loss: 1.4928 - accuracy: 0.5411 - val_loss: 0.8862 - val_accuracy: 0.7218\n",
      "Epoch 35/50\n",
      "63/63 [==============================] - 21687s 350s/step - loss: 1.4705 - accuracy: 0.5306 - val_loss: 0.6010 - val_accuracy: 0.8008\n",
      "Epoch 36/50\n",
      "63/63 [==============================] - 489s 8s/step - loss: 1.4540 - accuracy: 0.5502 - val_loss: 0.6832 - val_accuracy: 0.7782\n",
      "Epoch 37/50\n",
      "63/63 [==============================] - 142s 2s/step - loss: 1.4134 - accuracy: 0.5537 - val_loss: 0.7830 - val_accuracy: 0.7406\n",
      "Epoch 38/50\n",
      "63/63 [==============================] - 1563s 25s/step - loss: 1.4116 - accuracy: 0.5682 - val_loss: 0.6447 - val_accuracy: 0.8008\n",
      "Epoch 39/50\n",
      "63/63 [==============================] - 209s 3s/step - loss: 1.3604 - accuracy: 0.5682 - val_loss: 0.6321 - val_accuracy: 0.8233\n",
      "Epoch 40/50\n",
      "63/63 [==============================] - 202s 3s/step - loss: 1.3653 - accuracy: 0.5612 - val_loss: 0.5847 - val_accuracy: 0.8346\n",
      "Epoch 41/50\n",
      "63/63 [==============================] - 200s 3s/step - loss: 1.3439 - accuracy: 0.5817 - val_loss: 0.6301 - val_accuracy: 0.8383\n",
      "Epoch 42/50\n",
      "63/63 [==============================] - 200s 3s/step - loss: 1.3045 - accuracy: 0.5827 - val_loss: 0.6029 - val_accuracy: 0.8120\n",
      "Epoch 43/50\n",
      "63/63 [==============================] - 222s 4s/step - loss: 1.3581 - accuracy: 0.5737 - val_loss: 0.5578 - val_accuracy: 0.8421\n",
      "Epoch 44/50\n",
      "63/63 [==============================] - 208s 3s/step - loss: 1.2746 - accuracy: 0.6013 - val_loss: 0.5939 - val_accuracy: 0.8195\n",
      "Epoch 45/50\n",
      "63/63 [==============================] - 219s 3s/step - loss: 1.3073 - accuracy: 0.5883 - val_loss: 0.5355 - val_accuracy: 0.8083\n",
      "Epoch 46/50\n",
      "63/63 [==============================] - 214s 3s/step - loss: 1.2617 - accuracy: 0.6103 - val_loss: 0.5403 - val_accuracy: 0.8346\n",
      "Epoch 47/50\n",
      "63/63 [==============================] - 208s 3s/step - loss: 1.2413 - accuracy: 0.6098 - val_loss: 0.5431 - val_accuracy: 0.8346\n",
      "Epoch 48/50\n",
      "63/63 [==============================] - 212s 3s/step - loss: 1.2652 - accuracy: 0.5998 - val_loss: 0.5413 - val_accuracy: 0.8158\n",
      "Epoch 49/50\n",
      "63/63 [==============================] - 211s 3s/step - loss: 1.2334 - accuracy: 0.6133 - val_loss: 0.5661 - val_accuracy: 0.8120\n",
      "Epoch 50/50\n",
      "63/63 [==============================] - 202s 3s/step - loss: 1.2391 - accuracy: 0.5978 - val_loss: 0.5694 - val_accuracy: 0.8233\n"
     ]
    }
   ],
   "source": [
    "from PIL import ImageFile\n",
    "ImageFile.LOAD_TRUNCATED_IMAGES = True\n",
    "\n",
    "from keras.callbacks import EarlyStopping\n",
    "\n",
    "# Define early stopping\n",
    "early_stopping = EarlyStopping(monitor='val_loss', patience=10, restore_best_weights=True)\n",
    "\n",
    "# Train the model with early stopping\n",
    "history = model.fit(train_generator, epochs=epochs, validation_data=validation_generator, callbacks=[early_stopping])\n"
   ]
  },
  {
   "cell_type": "code",
   "execution_count": 17,
   "id": "892a49ca",
   "metadata": {},
   "outputs": [
    {
     "data": {
      "image/png": "[encoded data removed]",
      "text/plain": [
       "<Figure size 1200x400 with 2 Axes>"
      ]
     },
     "metadata": {},
     "output_type": "display_data"
    }
   ],
   "source": [
    "fig , ax = plt.subplots(1,2)\n",
    "train_acc = history.history['accuracy']\n",
    "train_loss = history.history['loss']\n",
    "fig.set_size_inches(12,4)\n",
    "\n",
    "ax[0].plot(history.history['accuracy'])\n",
    "ax[0].plot(history.history['val_accuracy'])\n",
    "ax[0].set_title('Training Accuracy vs Validation Accuracy')\n",
    "ax[0].set_ylabel('Accuracy')\n",
    "ax[0].set_xlabel('Epoch')\n",
    "ax[0].legend(['Train', 'Validation'], loc='upper left')\n",
    "\n",
    "ax[1].plot(history.history['loss'])\n",
    "ax[1].plot(history.history['val_loss'])\n",
    "ax[1].set_title('Training Loss vs Validation Loss')\n",
    "ax[1].set_ylabel('Loss')\n",
    "ax[1].set_xlabel('Epoch')\n",
    "ax[1].legend(['Train', 'Validation'], loc='upper left')\n",
    "\n",
    "plt.show()"
   ]
  },
  {
   "cell_type": "code",
   "execution_count": 18,
   "id": "da7ae1bf",
   "metadata": {},
   "outputs": [
    {
     "name": "stdout",
     "output_type": "stream",
     "text": [
      "63/63 [==============================] - 74s 1s/step - loss: 1.0541 - accuracy: 0.6705\n",
      "9/9 [==============================] - 8s 915ms/step - loss: 0.5694 - accuracy: 0.8233\n",
      "final train accuracy = 67.05 , validation accuracy = 82.33\n"
     ]
    },
    {
     "name": "stderr",
     "output_type": "stream",
     "text": [
      "C:\\anacon\\Lib\\site-packages\\keras\\src\\engine\\training.py:3103: UserWarning: You are saving your model as an HDF5 file via `model.save()`. This file format is considered legacy. We recommend using instead the native Keras format, e.g. `model.save('my_model.keras')`.\n",
      "  saving_api.save_model(\n"
     ]
    }
   ],
   "source": [
    "train_loss, train_acc = model.evaluate(train_generator)\n",
    "test_loss, test_acc   = model.evaluate(validation_generator)\n",
    "print(\"final train accuracy = {:.2f} , validation accuracy = {:.2f}\".format(train_acc*100, test_acc*100))\n",
    "\n",
    "# Save the trained model\n",
    "model.save(\"yoga_model.h5\")"
   ]
  },
  {
   "cell_type": "code",
   "execution_count": null,
   "id": "99355ca8",
   "metadata": {},
   "outputs": [],
   "source": [
    "import cv2\n",
    "import mediapipe as mp\n",
    "import numpy as np\n",
    "from keras.models import load_model\n",
    "from keras.preprocessing import image\n",
    "import time\n",
    "\n",
    "# Load the trained model\n",
    "model = load_model('yoga_model.h5') \n",
    "\n",
    "# Initialize mediapipe for holistic detection\n",
    "mp_holistic = mp.solutions.holistic\n",
    "holistic = mp_holistic.Holistic()\n",
    "\n",
    "# Initialize OpenCV video capture\n",
    "cap = cv2.VideoCapture(0)\n",
    "\n",
    "# Set the time interval for capturing the pose \n",
    "pose_capture_interval = 15\n",
    "pose_update_interval = 60\n",
    "last_pose_capture_time = time.time()\n",
    "current_pose_start_time = time.time()\n",
    "\n",
    "# Initialize variables for displaying pose and accuracy\n",
    "displayed_pose = None\n",
    "displayed_accuracy = None\n",
    "predicted_probs = None\n",
    "\n",
    "# Initialize variables for warning display\n",
    "show_warning = False\n",
    "warning_start_time = 0\n",
    "warning_duration = 10  # in seconds\n",
    "\n",
    "def preprocess_user_pose(frame):\n",
    "    # Resize the frame to the expected input size of the model (224x224)\n",
    "    resized_frame = cv2.resize(frame, (224, 224))\n",
    "    # Convert BGR image to RGB\n",
    "    rgb_frame = cv2.cvtColor(resized_frame, cv2.COLOR_BGR2RGB)\n",
    "    # Convert the image to the format expected by the model\n",
    "    user_pose_image = image.array_to_img(rgb_frame)\n",
    "    return user_pose_image\n",
    "\n",
    "def check_alignment(user_landmarks, predicted_class):\n",
    "    return True\n",
    "\n",
    "while True:\n",
    "    ret, frame = cap.read()\n",
    "\n",
    "    if not ret:\n",
    "        break\n",
    "\n",
    "    # Convert BGR frame to RGB\n",
    "    rgb_frame = cv2.cvtColor(frame, cv2.COLOR_BGR2RGB)\n",
    "\n",
    "    # Perform holistic detection\n",
    "    results = holistic.process(rgb_frame)\n",
    "\n",
    "    if results.pose_landmarks:\n",
    "        # Draw pose landmarks on the frame\n",
    "        mp.solutions.drawing_utils.draw_landmarks(frame, results.pose_landmarks, mp_holistic.POSE_CONNECTIONS)\n",
    "\n",
    "        current_time = time.time()\n",
    "        elapsed_capture_time = current_time - last_pose_capture_time\n",
    "        elapsed_pose_time = current_time - current_pose_start_time\n",
    "\n",
    "        # Check if it's time to capture a new pose\n",
    "        if elapsed_capture_time >= pose_capture_interval:\n",
    "            # Capture the user's pose every 15 seconds\n",
    "            user_pose_image = preprocess_user_pose(frame)\n",
    "\n",
    "            # Make a prediction using the loaded model\n",
    "            user_pose_array = image.img_to_array(user_pose_image)\n",
    "            user_pose_array = np.expand_dims(user_pose_array, axis=0)\n",
    "            user_pose_array /= 255.0  # Normalize pixel values\n",
    "            predicted_probs = model.predict(user_pose_array)[0]\n",
    "\n",
    "            # Get the predicted pose class\n",
    "            predicted_class = np.argmax(predicted_probs)\n",
    "\n",
    "            # Assuming you have a list of class labels\n",
    "            class_labels = ['downdog', 'goddess', 'plank', 'tree', 'warrior2', 'Adho Mukha Svanasana', \n",
    "                            'Adho Mukha Vrksasana', 'Alanasana', 'Anjaneyasana', 'Ardha Chandrasana', 'Ardha Matsyendrasana', \n",
    "                            'Bitilasana ', 'Bakasana', 'Ardha Navasana', 'Ardha Pincha Mayurasana', 'Ashta Chandrasana', \n",
    "                            'Baddha Konasana', 'Balasana', 'Camatkarasana', 'Dhanurasana']  \n",
    "            # Get the name of the predicted pose\n",
    "            predicted_pose = class_labels[predicted_class]\n",
    "\n",
    "            # Update the displayed pose and accuracy\n",
    "            displayed_pose = f'Predicted Pose: {predicted_pose}'\n",
    "            displayed_accuracy = f'Accuracy: {predicted_probs[predicted_class] * 100:.2f}%'\n",
    "\n",
    "            # Check alignment and display warning if needed\n",
    "            is_aligned = check_alignment(results.pose_landmarks.landmark, predicted_class)\n",
    "\n",
    "            if predicted_probs[predicted_class] < 0.5:\n",
    "                show_warning = True\n",
    "                warning_start_time = current_time\n",
    "\n",
    "            # Update the last pose capture time\n",
    "            last_pose_capture_time = current_time\n",
    "\n",
    "        # Check if it's time to update the pose (after 1 minute)\n",
    "        if elapsed_pose_time >= pose_update_interval:\n",
    "            current_pose_start_time = current_time\n",
    "\n",
    "    # Display the frame with the predicted pose and accuracy\n",
    "    if displayed_pose is not None:\n",
    "        cv2.putText(frame, displayed_pose, (10, 30), cv2.FONT_HERSHEY_SIMPLEX, 1, (0, 255, 0), 2)\n",
    "        cv2.putText(frame, displayed_accuracy, (10, 70), cv2.FONT_HERSHEY_SIMPLEX, 1, (0, 255, 0), 2)\n",
    "\n",
    "    # Display the warning message if needed\n",
    "    if show_warning:\n",
    "        cv2.putText(frame, 'Warning: Low Accuracy', (10, 110), cv2.FONT_HERSHEY_SIMPLEX, 1, (0, 0, 255), 2)\n",
    "\n",
    "    # Display the frame\n",
    "    cv2.imshow('Holistic Detection', frame)\n",
    "\n",
    "    key = cv2.waitKey(1)\n",
    "    if key == ord('q'):\n",
    "        break\n",
    "\n",
    "# Release video capture\n",
    "cap.release()\n",
    "cv2.destroyAllWindows()"
   ]
  },
  {
   "cell_type": "code",
   "execution_count": null,
   "id": "464f244b",
   "metadata": {},
   "outputs": [],
   "source": []
  }
 ],
 "metadata": {
  "kernelspec": {
   "display_name": "Python 3 (ipykernel)",
   "language": "python",
   "name": "python3"
  },
  "language_info": {
   "codemirror_mode": {
    "name": "ipython",
    "version": 3
   },
   "file_extension": ".py",
   "mimetype": "text/x-python",
   "name": "python",
   "nbconvert_exporter": "python",
   "pygments_lexer": "ipython3",
   "version": "3.13.5"
  }
 },
 "nbformat": 4,
 "nbformat_minor": 5
}
